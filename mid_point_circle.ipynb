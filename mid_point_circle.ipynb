{
 "cells": [
  {
   "cell_type": "code",
   "execution_count": 6,
   "id": "e8f7e0b2",
   "metadata": {},
   "outputs": [
    {
     "name": "stdout",
     "output_type": "stream",
     "text": [
      "Enter Center Point X Cordinate :- 100\n",
      "Enter Center Point Y Cordinate :- 100\n",
      "Enter Radius of Circle :- 50\n",
      "X List :-  [0, 1, 50, 2, 50, 3, 50, 4, 50, 5, 50, 6, 50, 7, 50, 8, 49, 9, 49, 10, 49, 11, 49, 12, 49, 13, 48, 14, 48, 15, 48, 16, 47, 17, 47, 18, 47, 19, 46, 20, 46, 21, 45, 22, 45, 23, 44, 24, 44, 25, 43, 26, 43, 27, 42, 28, 41, 29, 41, 30, 40, 31, 39, 32, 38, 33, 38, 34, 37, 35, 36, 36, 35]\n",
      "Y List :-  [50, 50, 1, 50, 2, 50, 3, 50, 4, 50, 5, 50, 6, 50, 7, 49, 8, 49, 9, 49, 10, 49, 11, 49, 12, 48, 13, 48, 14, 48, 15, 47, 16, 47, 17, 47, 18, 46, 19, 46, 20, 45, 21, 45, 22, 44, 23, 44, 24, 43, 25, 43, 26, 42, 27, 41, 28, 41, 29, 40, 30, 39, 31, 38, 32, 38, 33, 37, 34, 36, 35, 35, 36]\n"
     ]
    }
   ],
   "source": [
    "\n",
    "from graphics import *\n",
    "import time\n",
    "\n",
    "\n",
    "def calc_point(xc,yc,r):\n",
    "    x=[]\n",
    "    y=[]\n",
    "    xnext=0\n",
    "    ynext=r\n",
    "    Win=GraphWin(\"Mid Point Circle Drawing Algorithm :- \",600,480)\n",
    "    x.append(xnext)\n",
    "    y.append(ynext)\n",
    "    p=5/4-(r)\n",
    "    while(ynext>xnext):\n",
    "        if p<0:\n",
    "            xnext=xnext+1\n",
    "            ynext=ynext\n",
    "            p=p+(2*xnext)+1\n",
    "            x.append(xnext)\n",
    "            x.append(ynext)\n",
    "            y.append(ynext)\n",
    "            y.append(xnext)\n",
    "        else:\n",
    "            xnext=xnext+1\n",
    "            ynext=ynext-1\n",
    "            p=p+1+(2*(xnext-ynext))\n",
    "            x.append(xnext)\n",
    "            x.append(ynext)\n",
    "            y.append(ynext)\n",
    "            y.append(xnext)\n",
    "    xtemp=[]\n",
    "    ytemp=[]\n",
    "    for i in x:\n",
    "        xtemp.append(i)\n",
    "        xtemp.append(i)\n",
    "        xtemp.append(-i)\n",
    "        xtemp.append(-i)\n",
    "    for i in y:\n",
    "        ytemp.append(i)\n",
    "        ytemp.append(-i)\n",
    "        ytemp.append(-i)\n",
    "        ytemp.append(i)\n",
    "    for i in range(len(xtemp)):\n",
    "        pt=Point(xtemp[i]+xc,ytemp[i]+yc)\n",
    "        pt.draw(Win)\n",
    "    time.sleep(3)\n",
    "    Win.close()\n",
    "\n",
    "    \n",
    "    print(\"X List :- \",x)\n",
    "    print(\"Y List :- \",y)\n",
    "\n",
    "\n",
    "\n",
    "xc=int(input(\"Enter Center Point X Cordinate :- \"))\n",
    "yc=int(input(\"Enter Center Point Y Cordinate :- \"))\n",
    "r=int(input(\"Enter Radius of Circle :- \"))\n",
    "calc_point(xc,yc,r)"
   ]
  },
  {
   "cell_type": "code",
   "execution_count": 4,
   "id": "ef30c6c4",
   "metadata": {},
   "outputs": [],
   "source": []
  },
  {
   "cell_type": "code",
   "execution_count": 5,
   "id": "812cd8e6",
   "metadata": {},
   "outputs": [
    {
     "name": "stdout",
     "output_type": "stream",
     "text": [
      "X List :-  [0, 1, 100, 2, 100, 3, 100, 4, 100, 5, 100, 6, 100, 7, 100, 8, 100, 9, 100, 10, 99, 11, 99, 12, 99, 13, 99, 14, 99, 15, 99, 16, 99, 17, 99, 18, 98, 19, 98, 20, 98, 21, 98, 22, 98, 23, 97, 24, 97, 25, 97, 26, 97, 27, 96, 28, 96, 29, 96, 30, 95, 31, 95, 32, 95, 33, 94, 34, 94, 35, 94, 36, 93, 37, 93, 38, 92, 39, 92, 40, 92, 41, 91, 42, 91, 43, 90, 44, 90, 45, 89, 46, 89, 47, 88, 48, 88, 49, 87, 50, 87, 51, 86, 52, 85, 53, 85, 54, 84, 55, 84, 56, 83, 57, 82, 58, 81, 59, 81, 60, 80, 61, 79, 62, 78, 63, 78, 64, 77, 65, 76, 66, 75, 67, 74, 68, 73, 69, 72, 70, 71, 71, 70]\n",
      "Y List :-  [100, 100, 1, 100, 2, 100, 3, 100, 4, 100, 5, 100, 6, 100, 7, 100, 8, 100, 9, 99, 10, 99, 11, 99, 12, 99, 13, 99, 14, 99, 15, 99, 16, 99, 17, 98, 18, 98, 19, 98, 20, 98, 21, 98, 22, 97, 23, 97, 24, 97, 25, 97, 26, 96, 27, 96, 28, 96, 29, 95, 30, 95, 31, 95, 32, 94, 33, 94, 34, 94, 35, 93, 36, 93, 37, 92, 38, 92, 39, 92, 40, 91, 41, 91, 42, 90, 43, 90, 44, 89, 45, 89, 46, 88, 47, 88, 48, 87, 49, 87, 50, 86, 51, 85, 52, 85, 53, 84, 54, 84, 55, 83, 56, 82, 57, 81, 58, 81, 59, 80, 60, 79, 61, 78, 62, 78, 63, 77, 64, 76, 65, 75, 66, 74, 67, 73, 68, 72, 69, 71, 70, 70, 71]\n"
     ]
    }
   ],
   "source": [
    "calc_point(100,100,100)"
   ]
  }
 ],
 "metadata": {
  "kernelspec": {
   "display_name": "Python 3 (ipykernel)",
   "language": "python",
   "name": "python3"
  },
  "language_info": {
   "codemirror_mode": {
    "name": "ipython",
    "version": 3
   },
   "file_extension": ".py",
   "mimetype": "text/x-python",
   "name": "python",
   "nbconvert_exporter": "python",
   "pygments_lexer": "ipython3",
   "version": "3.11.3"
  }
 },
 "nbformat": 4,
 "nbformat_minor": 5
}
