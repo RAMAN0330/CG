{
 "cells": [
  {
   "cell_type": "code",
   "execution_count": 1,
   "id": "e4124d83",
   "metadata": {},
   "outputs": [
    {
     "name": "stdout",
     "output_type": "stream",
     "text": [
      "Enter Number of Control Points :- 4\n",
      "OK Plz Fill The Details :- \n",
      "Enter  1 Control  Point Cordinates :- \n",
      "200 100\n",
      "Enter  2 Control  Point Cordinates :- \n",
      "180 270\n",
      "Enter  3 Control  Point Cordinates :- \n",
      "390 150\n",
      "Enter  4 Control  Point Cordinates :- \n",
      "270 340\n"
     ]
    }
   ],
   "source": [
    "\n",
    "from wand.image import Image\n",
    "from wand.drawing import Drawing\n",
    "from wand.color import Color\n",
    "\n",
    "with Drawing() as draw:\n",
    "    draw.stroke_color = Color('black')\n",
    "    draw.stroke_width = 1\n",
    "    x=int(input(\"Enter Number of Control Points :- \"))\n",
    "    print(\"OK Plz Fill The Details :- \")\n",
    "    points=[]\n",
    "    for i in range(x):\n",
    "        print(\"Enter \",i+1,\"Control  Point Cordinates :- \")\n",
    "        x,y=input().split()\n",
    "        points.append((int(x),int(y)))\n",
    "    draw.fill_color = Color('red')\n",
    "    draw.bezier(points) \n",
    "    with Image(width = 600,height = 600, background = Color('grey')) as img:\n",
    "        draw.draw(img)\n",
    "        img.save(filename ='last.png')"
   ]
  }
 ],
 "metadata": {
  "kernelspec": {
   "display_name": "Python 3 (ipykernel)",
   "language": "python",
   "name": "python3"
  },
  "language_info": {
   "codemirror_mode": {
    "name": "ipython",
    "version": 3
   },
   "file_extension": ".py",
   "mimetype": "text/x-python",
   "name": "python",
   "nbconvert_exporter": "python",
   "pygments_lexer": "ipython3",
   "version": "3.11.3"
  }
 },
 "nbformat": 4,
 "nbformat_minor": 5
}
