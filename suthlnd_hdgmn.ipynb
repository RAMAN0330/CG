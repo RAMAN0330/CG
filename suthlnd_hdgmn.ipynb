{
 "cells": [
  {
   "cell_type": "code",
   "execution_count": 1,
   "id": "b0a5f7d4",
   "metadata": {},
   "outputs": [
    {
     "name": "stdout",
     "output_type": "stream",
     "text": [
      "Enter Lower bound of Cropped Area :- 2 2\n",
      "Enter Upper bound of Cropped Area :- 7 7\n",
      "Enter Number of vertices in a Polygon :- 4\n",
      "Start entering Points :- \n",
      "Enter Cordinates of  1  Vertex :- \n",
      "0 5\n",
      "Enter Cordinates of  2  Vertex :- \n",
      "1 1\n",
      "Enter Cordinates of  3  Vertex :- \n",
      "3 0\n",
      "Enter Cordinates of  4  Vertex :- \n",
      "4 6\n"
     ]
    },
    {
     "data": {
      "image/png": "[encoded data removed]",
      "text/plain": [
       "<Figure size 640x480 with 1 Axes>"
      ]
     },
     "metadata": {},
     "output_type": "display_data"
    },
    {
     "name": "stdout",
     "output_type": "stream",
     "text": [
      "[False, False, False, True, False]\n",
      "[(0, 5), (1, 1), (3, 0), (4, 6), (0, 5)]\n",
      "outside to outside\n",
      "outside to outside\n",
      "Outside to inside\n",
      "x1:  4 , y1:  6\n",
      "x2:  3 , y2:  0\n",
      "Inside to outside\n",
      "x1:  4 , y1:  6\n",
      "x2:  0 , y2:  5\n",
      "[(3.3333333333333335, 2), (4, 6), (2, 5.5)]\n"
     ]
    },
    {
     "data": {
      "image/png": "[encoded data removed]",
      "text/plain": [
       "<Figure size 640x480 with 1 Axes>"
      ]
     },
     "metadata": {},
     "output_type": "display_data"
    }
   ],
   "source": [
    "def draw_graph(xlist,ylist,V,title):\n",
    "    plt.plot(xlist,ylist,c=\"red\" , label=\"Required Area\")\n",
    "    x=[]\n",
    "    y=[]\n",
    "    for i in V:\n",
    "        x.append(i[0])\n",
    "        y.append(i[1])\n",
    "    plt.plot(x,y,c=\"blue\",label=\"Polygon\")\n",
    "    plt.show()\n",
    "\n",
    "\n",
    "def check_points(xmin,ymin,xmax,ymax,x1,y1):\n",
    "    if(x1>=xmin and x1<=xmax):\n",
    "        if(y1>=ymin and y1<=ymax):\n",
    "            return True\n",
    "        else:\n",
    "            return False\n",
    "    else:\n",
    "        return False\n",
    "    \n",
    "\n",
    "    \n",
    "def get_xy(xmin,ymin,xmax,ymax,x1,y1,x2,y2):\n",
    "    m = (y2-y1)/(x2-x1)\n",
    "    if(check_points(xmin,ymin,xmax,ymax,x1,y1)):\n",
    "        A=x1\n",
    "        B=y1\n",
    "        C=x2\n",
    "        D=y2\n",
    "    else:\n",
    "        A=x2\n",
    "        B=y2\n",
    "        C=x1\n",
    "        D=y1 \n",
    "    print(\"x1: \",A,\", y1: \",B)    \n",
    "    print(\"x2: \",C,\", y2: \",D)\n",
    "    if(C<=xmin):\n",
    "        #left\n",
    "        x=xmin\n",
    "        y=B+(m*(xmin-A))\n",
    "    elif(C>=xmax):\n",
    "        #right\n",
    "        x=xmax\n",
    "        y=B+(m*(xmax-A))\n",
    "    elif(D<=ymin):\n",
    "        #bottom\n",
    "        y=ymin\n",
    "        x=((ymin-B)/m)+A\n",
    "    else:\n",
    "        #top\n",
    "        y=ymax\n",
    "        x=((ymax-B)/m)+A\n",
    "    return (x,y);\n",
    "\n",
    "def clip_using_sutherland_hongeman(x1,y1,x2,y2,V):\n",
    "    check=[]\n",
    "    v1=[]\n",
    "    for i in V:\n",
    "        check.append(check_points(x1,y1,x2,y2,i[0],i[1]))\n",
    "    print(check)\n",
    "    print(V)\n",
    "    for i in range(len(check)-1):\n",
    "        if(check[i]==False):\n",
    "            if(check[i+1]==True):\n",
    "                print(\"Outside to inside\")\n",
    "                x,y=get_xy(x1,y1,x2,y2,V[i][0],V[i][1],V[i+1][0],V[i+1][1])\n",
    "                v1.append((x,y)) \n",
    "            else:\n",
    "                print(\"outside to outside\")\n",
    "        elif(check[i]):\n",
    "            if(check[i+1]==True):\n",
    "                print(\"Inside to Inside\")\n",
    "                v1.append((V[i][0],V[i][1]))\n",
    "            else: \n",
    "                print(\"Inside to outside\")\n",
    "                v1.append((int(V[i][0]),int(V[i][1])))\n",
    "                x,y=get_xy(x1,y1,x2,y2,V[i][0],V[i][1],V[i+1][0],V[i+1][1])\n",
    "                v1.append((x,y))     \n",
    "    print(v1) \n",
    "    xlist=[x1,x1,x2,x2,x1]\n",
    "    ylist=[y1,y2,y2,y1,y1]\n",
    "    draw_graph(xlist,ylist,v1,\"Cropped Data is :- \")\n",
    "        \n",
    "        \n",
    "        \n",
    "    \n",
    "                                   \n",
    "                                   \n",
    "import matplotlib.pyplot as plt\n",
    "from shapely.geometry import Polygon\n",
    "x1,y1=input(\"Enter Lower bound of Cropped Area :- \").split()\n",
    "x2,y2=input(\"Enter Upper bound of Cropped Area :- \").split()\n",
    "xlist=[int(x1),int(x1),int(x2),int(x2),int(x1)]\n",
    "ylist=[int(y1),int(y2),int(y2),int(y1),int(y1)]\n",
    "count=int(input(\"Enter Number of vertices in a Polygon :- \"))\n",
    "V=[]\n",
    "print(\"Start entering Points :- \")\n",
    "for i in range(count):\n",
    "    print(\"Enter Cordinates of \",i+1,\" Vertex :- \")\n",
    "    x,y=input().split()\n",
    "    V.append((int(x),int(y)))\n",
    "\n",
    "V.append((V[0][0],V[0][1]))\n",
    "draw_graph(xlist,ylist,V,\"Actual Data is :- \")\n",
    "V1=clip_using_sutherland_hongeman(int(x1),int(y1),int(x2),int(y2),V)\n",
    "                               \n",
    "\n",
    "\n"
   ]
  }
 ],
 "metadata": {
  "kernelspec": {
   "display_name": "Python 3 (ipykernel)",
   "language": "python",
   "name": "python3"
  },
  "language_info": {
   "codemirror_mode": {
    "name": "ipython",
    "version": 3
   },
   "file_extension": ".py",
   "mimetype": "text/x-python",
   "name": "python",
   "nbconvert_exporter": "python",
   "pygments_lexer": "ipython3",
   "version": "3.11.3"
  }
 },
 "nbformat": 4,
 "nbformat_minor": 5
}
